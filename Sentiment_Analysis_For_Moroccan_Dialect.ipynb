{
 "cells": [
  {
   "cell_type": "markdown",
   "metadata": {
    "colab_type": "text",
    "id": "KUevc8JVanQw"
   },
   "source": [
    "## Importing the required libraries"
   ]
  },
  {
   "cell_type": "code",
   "execution_count": 47,
   "metadata": {
    "colab": {},
    "colab_type": "code",
    "id": "SL0g_dpOM4tM"
   },
   "outputs": [],
   "source": [
    "import re # for regular expressions\n",
    "import pandas as pd \n",
    "pd.set_option(\"display.max_colwidth\", 200)\n",
    "import numpy as np \n",
    "import tensorflow as tf\n",
    "import keras.layers as layers\n",
    "from keras.models import Model\n",
    "from keras.datasets import imdb\n",
    "\n",
    "from keras.callbacks import EarlyStopping, ModelCheckpoint\n",
    "from keras.layers import Input,Embedding,Dense,Flatten\n",
    "from sklearn.metrics import accuracy_score,classification_report\n",
    "from sklearn.metrics import f1_score\n",
    "\n",
    "import matplotlib.pyplot as plt \n",
    "import seaborn as sns\n",
    "import string\n",
    "import nltk # for text manipulation\n",
    "import warnings \n",
    "warnings.filterwarnings(\"ignore\", category=DeprecationWarning)\n",
    "from matplotlib import pyplot as plt\n",
    "from aaransia import transliterate, SourceLanguageError\n",
    "\n",
    "import codecs\n",
    "import unicodedata as ud\n",
    "from tashaphyne.stemming import ArabicLightStemmer\n",
    "import pyarabic.araby as araby\n",
    "#from textblob import TextBlob\n",
    "#from nltk.corpus import stopwords\n",
    "#from nltk.stem.wordnet import WordNetLemmatizer\n",
    "%matplotlib inline"
   ]
  },
  {
   "cell_type": "markdown",
   "metadata": {},
   "source": [
    "## Reading and Extracting data from .csv files"
   ]
  },
  {
   "cell_type": "code",
   "execution_count": 48,
   "metadata": {
    "colab": {},
    "colab_type": "code",
    "id": "VVVXZiQeNSFR"
   },
   "outputs": [],
   "source": [
    "import pandas as pd\n",
    "train = pd.read_excel(\"C:\\\\Users\\\\DELL\\\\Desktop\\\\PFE\\\\Final_Data.xlsx\" )\n",
    "test = pd.read_excel(\"C:\\\\Users\\\\DELL\\\\Desktop\\\\PFE\\\\Test.xlsx\")\n",
    "stopwords= pd.read_excel(\"C:\\\\Users\\\\DELL\\\\Desktop\\\\PFE\\\\stop_words_Arabic.xlsx\")"
   ]
  },
  {
   "cell_type": "code",
   "execution_count": 4,
   "metadata": {},
   "outputs": [
    {
     "data": {
      "text/html": [
       "<div>\n",
       "<style scoped>\n",
       "    .dataframe tbody tr th:only-of-type {\n",
       "        vertical-align: middle;\n",
       "    }\n",
       "\n",
       "    .dataframe tbody tr th {\n",
       "        vertical-align: top;\n",
       "    }\n",
       "\n",
       "    .dataframe thead th {\n",
       "        text-align: right;\n",
       "    }\n",
       "</style>\n",
       "<table border=\"1\" class=\"dataframe\">\n",
       "  <thead>\n",
       "    <tr style=\"text-align: right;\">\n",
       "      <th></th>\n",
       "      <th>comment</th>\n",
       "      <th>label</th>\n",
       "    </tr>\n",
       "  </thead>\n",
       "  <tbody>\n",
       "    <tr>\n",
       "      <th>1812</th>\n",
       "      <td>\\nالخلل في الذين يستهترون بالحجر الصحي و شروط الوقاية</td>\n",
       "      <td>1</td>\n",
       "    </tr>\n",
       "    <tr>\n",
       "      <th>1813</th>\n",
       "      <td>😨😨😨 هادشي لي غادي يزيد ينشر المرض في البلاد !\\nاللهم الطف بنا</td>\n",
       "      <td>1</td>\n",
       "    </tr>\n",
       "    <tr>\n",
       "      <th>1814</th>\n",
       "      <td>Ach ghdi iakol bndam rah kyn li dkhl dyk yomi 😑 ail mdkhlch miakol f nhar mikolch o mikloch wldo</td>\n",
       "      <td>1</td>\n",
       "    </tr>\n",
       "    <tr>\n",
       "      <th>1815</th>\n",
       "      <td>Ah fhad lhala khassna diktatoriya dakchi li islah lina hna ila bghina ndabto</td>\n",
       "      <td>1</td>\n",
       "    </tr>\n",
       "    <tr>\n",
       "      <th>1816</th>\n",
       "      <td>Alla blati rah hna b3ad 3la 3a2ilatna</td>\n",
       "      <td>1</td>\n",
       "    </tr>\n",
       "    <tr>\n",
       "      <th>1817</th>\n",
       "      <td>Chno z3ma li dkhal ndiouh pasteur hhhh</td>\n",
       "      <td>1</td>\n",
       "    </tr>\n",
       "    <tr>\n",
       "      <th>1818</th>\n",
       "      <td>Fat lfout 😔</td>\n",
       "      <td>1</td>\n",
       "    </tr>\n",
       "    <tr>\n",
       "      <th>1819</th>\n",
       "      <td>Kdoooob makayn bo tatbi9 omat instaliw waloo tsanaw hta i9olo achman blassa lmhm wahda ftatouan ha video\\n</td>\n",
       "      <td>1</td>\n",
       "    </tr>\n",
       "    <tr>\n",
       "      <th>1820</th>\n",
       "      <td>الدي يسهر علينا هو الله يلا مكتاب ليك تموت بكورونا ماغايشدوها عليك، من لا يحترم هو ليغيجيب متبرجة و لم اكدب عليها ماقادينش تانشوفوا فيها لأننا نخاف من ربنا و يقوليها خطبي ليهم، المرة جاية يتعرا و...</td>\n",
       "      <td>1</td>\n",
       "    </tr>\n",
       "    <tr>\n",
       "      <th>1821</th>\n",
       "      <td>انا بغيت غير ابين راسو و ايبان بلي بصح تيبغي شعبو  ماشي اتخبى و اخلي ليبغا ايموت ايموت</td>\n",
       "      <td>1</td>\n",
       "    </tr>\n",
       "    <tr>\n",
       "      <th>1822</th>\n",
       "      <td>انتا لي عطينا بالتيساع اسي أمر متوقع\\nكولي شنو كتوقع آخور باش ندير حسابي ؟</td>\n",
       "      <td>1</td>\n",
       "    </tr>\n",
       "  </tbody>\n",
       "</table>\n",
       "</div>"
      ],
      "text/plain": [
       "                                                                                                                                                                                                      comment  \\\n",
       "1812                                                                                                                                                    \\nالخلل في الذين يستهترون بالحجر الصحي و شروط الوقاية   \n",
       "1813                                                                                                                                            😨😨😨 هادشي لي غادي يزيد ينشر المرض في البلاد !\\nاللهم الطف بنا   \n",
       "1814                                                                                                         Ach ghdi iakol bndam rah kyn li dkhl dyk yomi 😑 ail mdkhlch miakol f nhar mikolch o mikloch wldo   \n",
       "1815                                                                                                                             Ah fhad lhala khassna diktatoriya dakchi li islah lina hna ila bghina ndabto   \n",
       "1816                                                                                                                                                                    Alla blati rah hna b3ad 3la 3a2ilatna   \n",
       "1817                                                                                                                                                                   Chno z3ma li dkhal ndiouh pasteur hhhh   \n",
       "1818                                                                                                                                                                                              Fat lfout 😔   \n",
       "1819                                                                                               Kdoooob makayn bo tatbi9 omat instaliw waloo tsanaw hta i9olo achman blassa lmhm wahda ftatouan ha video\\n   \n",
       "1820   الدي يسهر علينا هو الله يلا مكتاب ليك تموت بكورونا ماغايشدوها عليك، من لا يحترم هو ليغيجيب متبرجة و لم اكدب عليها ماقادينش تانشوفوا فيها لأننا نخاف من ربنا و يقوليها خطبي ليهم، المرة جاية يتعرا و...   \n",
       "1821                                                                                                                   انا بغيت غير ابين راسو و ايبان بلي بصح تيبغي شعبو  ماشي اتخبى و اخلي ليبغا ايموت ايموت   \n",
       "1822                                                                                                                               انتا لي عطينا بالتيساع اسي أمر متوقع\\nكولي شنو كتوقع آخور باش ندير حسابي ؟   \n",
       "\n",
       "      label  \n",
       "1812      1  \n",
       "1813      1  \n",
       "1814      1  \n",
       "1815      1  \n",
       "1816      1  \n",
       "1817      1  \n",
       "1818      1  \n",
       "1819      1  \n",
       "1820      1  \n",
       "1821      1  \n",
       "1822      1  "
      ]
     },
     "execution_count": 4,
     "metadata": {},
     "output_type": "execute_result"
    }
   ],
   "source": [
    "train2.iloc[1812:1823]"
   ]
  },
  {
   "cell_type": "markdown",
   "metadata": {},
   "source": [
    "## Exploratory Data Analysis"
   ]
  },
  {
   "cell_type": "code",
   "execution_count": 5,
   "metadata": {},
   "outputs": [
    {
     "data": {
      "image/png": "[encoded data removed]",
      "text/plain": [
       "<Figure size 432x288 with 1 Axes>"
      ]
     },
     "metadata": {
      "needs_background": "light"
     },
     "output_type": "display_data"
    }
   ],
   "source": [
    "train['length'] = train['comment'].apply(len)\n",
    "fig1 = sns.barplot('label','length',data = train,palette=\"OrRd\" )\n",
    "plt.title('Average Word Length vs label')\n",
    "plot = fig1.get_figure()\n",
    "plot.savefig('Barplot.png')"
   ]
  },
  {
   "cell_type": "code",
   "execution_count": 15,
   "metadata": {},
   "outputs": [
    {
     "data": {
      "image/png": "[encoded data removed]",
      "text/plain": [
       "<Figure size 432x288 with 1 Axes>"
      ]
     },
     "metadata": {
      "needs_background": "light"
     },
     "output_type": "display_data"
    }
   ],
   "source": [
    "fig2 = sns.countplot(x= 'label',data = train,linewidth=2, edgecolor=(0,0,0),palette=\"OrRd\")\n",
    "plt.title('Label Counts')\n",
    "plot = fig2.get_figure()\n",
    "plot.savefig('Count Plot.png')"
   ]
  },
  {
   "cell_type": "markdown",
   "metadata": {},
   "source": [
    "## Feature Engineering"
   ]
  },
  {
   "cell_type": "markdown",
   "metadata": {},
   "source": [
    "### Trsanform Arabizi into Arabic"
   ]
  },
  {
   "cell_type": "code",
   "execution_count": 50,
   "metadata": {},
   "outputs": [
    {
     "name": "stderr",
     "output_type": "stream",
     "text": [
      "<ipython-input-50-882f5eb66ddf>:4: SettingWithCopyWarning: \n",
      "A value is trying to be set on a copy of a slice from a DataFrame\n",
      "\n",
      "See the caveats in the documentation: https://pandas.pydata.org/pandas-docs/stable/user_guide/indexing.html#returning-a-view-versus-a-copy\n",
      "  train.loc[:,\"comment\"][i]=row\n",
      "<ipython-input-50-882f5eb66ddf>:8: SettingWithCopyWarning: \n",
      "A value is trying to be set on a copy of a slice from a DataFrame\n",
      "\n",
      "See the caveats in the documentation: https://pandas.pydata.org/pandas-docs/stable/user_guide/indexing.html#returning-a-view-versus-a-copy\n",
      "  test.loc[:,'comment'][i]=row\n"
     ]
    }
   ],
   "source": [
    "\n",
    "for i in range(len(train)):\n",
    "    row=train.iloc[i][\"comment\"]\n",
    "    row=transliterate(row, source='ma', target='ar', universal=True)\n",
    "    train.loc[:,\"comment\"][i]=row\n",
    "for i in range(len(test)):\n",
    "    row=test.iloc[i][\"comment\"]\n",
    "    row=transliterate(row, source='ma', target='ar', universal=True)\n",
    "    test.loc[:,'comment'][i]=row        "
   ]
  },
  {
   "cell_type": "code",
   "execution_count": 71,
   "metadata": {},
   "outputs": [],
   "source": [
    "def text_processing(tweet):\n",
    "    \n",
    "    #Generating the list of words in the tweet (hastags and other punctuations removed)\n",
    "    def form_sentence(tweet):\n",
    "        tweet_blob = TextBlob(tweet)\n",
    "        return ' '.join(tweet_blob.words)\n",
    "    new_tweet = form_sentence(tweet)\n",
    "    \n",
    "    #Removing stopwords and words with unusual symbols\n",
    "    def no_user_alpha(tweet):\n",
    "        tweet_list = [ele for ele in tweet.split() if ele != 'user']\n",
    "        clean_tokens = [t for t in tweet_list if re.match(r'[^\\W\\d]*$', t)]\n",
    "        clean_s = ' '.join(clean_tokens)\n",
    "        clean_mess = [word for word in clean_s.split() if word.lower() not in stopwords]\n",
    "        return clean_mess\n",
    "    no_punc_tweet = no_user_alpha(new_tweet)\n",
    "    \n",
    "    #Normalizing the words in tweets \n",
    "    def normalization(tweet_list):\n",
    "        lem = WordNetLemmatizer()\n",
    "        normalized_tweet = []\n",
    "        for word in tweet_list:\n",
    "            normalized_text = lem.lemmatize(word,'v')\n",
    "            normalized_tweet.append(normalized_text)\n",
    "        return normalized_tweet\n",
    "    \n",
    "    \n",
    "    return normalization(no_punc_tweet)"
   ]
  },
  {
   "cell_type": "code",
   "execution_count": 97,
   "metadata": {},
   "outputs": [],
   "source": [
    "import nltk\n",
    "#nltk.download('stopwords')\n",
    "\n",
    "#train['comment'] = train['comment'].apply(text_processing)\n",
    "#test['comment'] = test['comment'].apply(text_processing)"
   ]
  },
  {
   "cell_type": "code",
   "execution_count": 72,
   "metadata": {},
   "outputs": [
    {
     "data": {
      "text/plain": [
       "(5684, 2)"
      ]
     },
     "execution_count": 72,
     "metadata": {},
     "output_type": "execute_result"
    }
   ],
   "source": [
    "combi = train.append(test, ignore_index=True)\n",
    "combi.shape"
   ]
  },
  {
   "cell_type": "code",
   "execution_count": 73,
   "metadata": {
    "colab": {
     "base_uri": "https://localhost:8080/",
     "height": 68
    },
    "colab_type": "code",
    "id": "9XF3R-oXhVwl",
    "outputId": "c5f56f77-ec04-4121-8033-2765d0873742"
   },
   "outputs": [],
   "source": [
    "# import Emojis \n",
    "def get_emojis():\n",
    "    with codecs.open(\"emoji.txt\", \"r\", encoding=\"utf-8\", errors=\"ignore\") as myfile:\n",
    "         positive_emoji=myfile.read()\n",
    "    positive_emoji=positive_emoji.split(\"\\n\")\n",
    "    positive_emoji=positive_emoji[1:len(positive_emoji)-1] \n",
    "    with codecs.open(\"neg_emoji.txt\", \"r\", encoding=\"utf-8\", errors=\"ignore\") as myfie:\n",
    "        neg_emoji=myfie.read()\n",
    "    neg_emoji=neg_emoji.split(\"\\n\")\n",
    "    neg_emoji=neg_emoji[1:len(neg_emoji)-1]\n",
    "    return positive_emoji,neg_emoji\n",
    "    \n",
    "\n",
    "############## PREPROCESSING DATA ################\n",
    "\n",
    "\n",
    "#Remove stop words \n",
    "def remove_stp_words(text):\n",
    "    text_words = []\n",
    "    words = text.split(\" \")\n",
    "    stop_words = stopwords\n",
    "    for word in words:\n",
    "        if word not in stop_words:\n",
    "            text_words.append(word)\n",
    "    return ' '.join(text_words)\n",
    "\n",
    "\n",
    "#Emoticons_Regex \n",
    "emoticons_str = r\"\"\"\n",
    "    (?:\n",
    "        [:=;] # Eyes\n",
    "        [oO\\-]? # Nose (optional)\n",
    "        [D\\)\\]\\(\\]/\\\\OpP] # Mouth\n",
    "    )\"\"\"\n",
    "regex_str = [\n",
    "    emoticons_str,\n",
    "    r'<[^>]+>',  # HTML tags\n",
    "    r'(?:@[\\w_]+)',  # @-mentions\n",
    "    r\"(?:\\#+[\\w_]+[\\w\\'_\\-]*[\\w_]+)\",  # hash-tags\n",
    "    r'http[s]?://(?:[a-z]|[0-9]|[$-_@.&amp;+]|[!*\\(\\),]|(?:%[0-9a-f][0-9a-f]))+',  # URLs\n",
    "\n",
    "    r'(?:(?:\\d+,?)+(?:\\.?\\d+)?)',  # numbers\n",
    "    r\"(?:[a-z][a-z'\\-_]+[a-z])\",  # words with - and '\n",
    "    r'(?:[\\w_]+)',  # other words\n",
    "    r'(?:\\S)'  # anything else\n",
    "]\n",
    "tokens_re = re.compile(r'(' + '|'.join(regex_str) + ')', re.VERBOSE | re.IGNORECASE)\n",
    "emoticon_re = re.compile(r'^' + emoticons_str + '$', re.VERBOSE | re.IGNORECASE)\n",
    "\n",
    "#Tokenizing_the_text :\n",
    "def tokenize(s):\n",
    "    return tokens_re.findall(s)\n",
    "\n",
    "\n",
    "#Normalize_the_text:\n",
    "def normalize_arabic(text):\n",
    "    text = re.sub(\"[إأآا]\", \"ا\", text)\n",
    "    text = re.sub(\"ى\", \"ي\", text)\n",
    "    text = re.sub(\"ؤ\", \"ء\", text)\n",
    "    text = re.sub(\"ئ\", \"ء\", text)\n",
    "    text = re.sub(\"ة\", \"ه\", text)\n",
    "    text = re.sub(\"گ\", \"ك\", text)\n",
    "    return text\n",
    "\n",
    "\n",
    "#Remove-repeating_char :\n",
    "def remove_repeating_char(text):\n",
    "     #return re.sub(r'(.)\\1+', r'\\1', text)     # keep only 1 repeat\n",
    "    return re.sub(r'(.)\\1+', r'\\1\\1', text)     # keep 2 repeat\n",
    "\n",
    "#Detecting_Emojis_REGEX\n",
    "emoji_pattern = re.compile(\"[\"\n",
    "         u\"\\U0001F600-\\U0001F64F\"  # emoticons\n",
    "         u\"\\U0001F300-\\U0001F5FF\"  # symbols & pictographs\n",
    "         u\"\\U0001F680-\\U0001F6FF\"  # transport & map symbols\n",
    "         u\"\\U0001F1E0-\\U0001F1FF\"  # flags (iOS)\n",
    "         u\"\\U00002702-\\U000027B0\"\n",
    "         u\"\\U000024C2-\\U0001F251\"\n",
    "         \"]+\", flags=re.UNICODE)\n",
    "\n",
    "#Transform Emojis to their sentiment \n",
    "def emoji_to_text(text):\n",
    "    text_words = []\n",
    "    words = text.split(\" \")\n",
    "    positive_emoji,neg_emoji=get_emojis()\n",
    "    for word in words:\n",
    "        if emoji_pattern.search(word):\n",
    "            if word in positive_emoji :\n",
    "                word='ايجابي'\n",
    "            if word in neg_emoji :\n",
    "                word='سلبي'\n",
    "        text_words.append(word)\n",
    "    return ' '.join(text_words)\n",
    "\n",
    "#REMOVING_Punctuation\n",
    "def remove_punc(text):\n",
    "    return ''.join(c for c in text if not ud.category(c).startswith('P'))\n",
    "\n",
    "\n",
    "#Stemmer_LIGHT : Remove suffixes and affixes \n",
    "ArListem = ArabicLightStemmer()\n",
    "def stemmer_light(text):\n",
    "    text_words = []\n",
    "    words = text.split(\" \")\n",
    "    for c in words:\n",
    "        stem = ArListem.light_stem(c)\n",
    "        text_words.append(stem)\n",
    "    return ' '.join(text_words)\n",
    "\n",
    "#Root Stemming :  Transform the wrod into its root form\n",
    "def stemmer_root(text):\n",
    "    text_words = []\n",
    "    words = text.split(\" \")\n",
    "    for c in words:\n",
    "        stem = ArListem.light_stem(c)\n",
    "        text_words.append(stem)\n",
    "    return ' '.join(text_words)\n",
    "\n",
    "\n",
    "############ DARIJA TEXT PREPROCESSIG #########\n",
    "\n",
    "def data_clean(stp_words=False,stem=True,tok=True,emojis=False):\n",
    "    data = get_data()\n",
    "    sentences = data['sentence']\n",
    "    #Remove ـــ character wich is used a lot in arabic for exhibition\n",
    "    sentences = [araby.strip_tatweel(text) for text in sentences] \n",
    "    #Remove Punctiation \n",
    "    sentences = [remove_punc(text) for text in sentences]\n",
    "    if emojis==False :\n",
    "        sentences = [emoji_to_text(text) for text in sentences] \n",
    "    #Remove Repeating character\n",
    "    sentences = [remove_repeating_char(text) for text in sentences]\n",
    "    #Remoce arabic diacritics\n",
    "    sentences = [araby.strip_tashkeel(text) for text in sentences]\n",
    "    if stp_words==True :\n",
    "        sentences = [remove_stp_words(text) for text in sentences]\n",
    "    if stem==True:\n",
    "        sentences = [stemmer_light(text) for text in sentences]\n",
    "    sentences = [normalize_arabic(text) for text in sentences]\n",
    "    sentences = [araby.normalize_hamza(text) for text in sentences]\n",
    "    if tok==True:\n",
    "        sentences = [tokenize(text) for text in sentences]\n",
    "    return sentences         "
   ]
  },
  {
   "cell_type": "code",
   "execution_count": 74,
   "metadata": {},
   "outputs": [],
   "source": [
    "sentences = train['comment']\n",
    "    #Remove ـــ character wich is used a lot in arabic for exhibition\n",
    "sentences = [araby.strip_tatweel(text) for text in sentences] \n",
    "    #Remove Punctiation \n",
    "sentences = [remove_punc(text) for text in sentences]\n",
    "#if emojis==False :\n",
    "sentences = [emoji_to_text(text) for text in sentences] \n",
    "    #Remove Repeating character\n",
    "sentences = [remove_repeating_char(text) for text in sentences]\n",
    "    #Remoce arabic diacritics\n",
    "sentences = [araby.strip_tashkeel(text) for text in sentences]\n",
    "#if stp_words==True :\n",
    "sentences = [remove_stp_words(text) for text in sentences]\n",
    "#if stem==True:\n",
    "sentences = [stemmer_light(text) for text in sentences]\n",
    "sentences = [normalize_arabic(text) for text in sentences]\n",
    "sentences = [araby.normalize_hamza(text) for text in sentences]\n",
    "#if tok==True:\n",
    "sentences = [tokenize(text) for text in sentences]\n",
    "#return sentences         "
   ]
  },
  {
   "cell_type": "code",
   "execution_count": 52,
   "metadata": {
    "colab": {
     "base_uri": "https://localhost:8080/",
     "height": 159
    },
    "colab_type": "code",
    "id": "blfj5bJsEVkG",
    "outputId": "685c6106-4d36-43c5-f19b-e8cb222f99fc"
   },
   "outputs": [
    {
     "data": {
      "text/plain": [
       "comment    لماذا عد الوفيات فتزايد بالمقارنة مع عد المتعافون ناقص مع العلم انكم بديتو باستعمال الكلوروكين\n",
       "label                                                                                                   1\n",
       "Name: 3511, dtype: object"
      ]
     },
     "execution_count": 52,
     "metadata": {},
     "output_type": "execute_result"
    }
   ],
   "source": [
    "combi.iloc[3511]"
   ]
  },
  {
   "cell_type": "code",
   "execution_count": 53,
   "metadata": {
    "colab": {},
    "colab_type": "code",
    "id": "sCSZBxGQhpia"
   },
   "outputs": [],
   "source": [
    "#Remove @\n",
    "def remove_pattern(input_txt, pattern):\n",
    "    r = re.findall(pattern, input_txt)\n",
    "    for i in r:\n",
    "        input_txt = re.sub(i, '', input_txt)\n",
    "        \n",
    "    return input_txt"
   ]
  },
  {
   "cell_type": "code",
   "execution_count": 54,
   "metadata": {
    "colab": {
     "base_uri": "https://localhost:8080/",
     "height": 255
    },
    "colab_type": "code",
    "id": "g-JmgxbqhvI2",
    "outputId": "349a3293-ff36-43c5-d1f0-88e928309506"
   },
   "outputs": [],
   "source": [
    "#remove @\n",
    "combi['tidy_comment'] = np.vectorize(remove_pattern)(combi['comment'], \"@[\\w]*\") \n"
   ]
  },
  {
   "cell_type": "code",
   "execution_count": 55,
   "metadata": {
    "colab": {
     "base_uri": "https://localhost:8080/",
     "height": 495
    },
    "colab_type": "code",
    "id": "Fx99n1Jvh65S",
    "outputId": "7368758f-8538-4ab0-c614-f5230ff1cf55"
   },
   "outputs": [],
   "source": [
    "#combi['tidy_comment'] = combi['tidy_comment'].str.replace(\"[^a-zA-Z#]\", \" \")\n"
   ]
  },
  {
   "cell_type": "code",
   "execution_count": 56,
   "metadata": {
    "colab": {},
    "colab_type": "code",
    "id": "Pr_8rLt2iMKI"
   },
   "outputs": [],
   "source": [
    "#remove imojies\n",
    "combi['tidy_comment'] = combi['tidy_comment'].apply(lambda x: ' '.join([w for w in x.split() if len(w)>3]))"
   ]
  },
  {
   "cell_type": "code",
   "execution_count": 57,
   "metadata": {
    "colab": {
     "base_uri": "https://localhost:8080/",
     "height": 255
    },
    "colab_type": "code",
    "id": "xn__6mw7ibFb",
    "outputId": "85041dd8-a8cf-4104-b848-f4124f6229fe"
   },
   "outputs": [
    {
     "data": {
      "text/html": [
       "<div>\n",
       "<style scoped>\n",
       "    .dataframe tbody tr th:only-of-type {\n",
       "        vertical-align: middle;\n",
       "    }\n",
       "\n",
       "    .dataframe tbody tr th {\n",
       "        vertical-align: top;\n",
       "    }\n",
       "\n",
       "    .dataframe thead th {\n",
       "        text-align: right;\n",
       "    }\n",
       "</style>\n",
       "<table border=\"1\" class=\"dataframe\">\n",
       "  <thead>\n",
       "    <tr style=\"text-align: right;\">\n",
       "      <th></th>\n",
       "      <th>comment</th>\n",
       "      <th>label</th>\n",
       "      <th>tidy_comment</th>\n",
       "    </tr>\n",
       "  </thead>\n",
       "  <tbody>\n",
       "    <tr>\n",
       "      <th>0</th>\n",
       "      <td>العتماني عندو الباقة و الجدال بالغة سد فمك</td>\n",
       "      <td>0.0</td>\n",
       "      <td>العتماني عندو الباقة الجدال بالغة</td>\n",
       "    </tr>\n",
       "    <tr>\n",
       "      <th>1</th>\n",
       "      <td>ان كتب لنا الموت بهذا الفيروس فذاك يبقا قضاء و قدر و سب من الاسباب و ان كتب لنا ان نعيش بعده فحتما، عاجلا ام اجلا سنموت اهم شيء الرجوع الا اله و الاستغفار و نساله تعالا ان يعافينا و يرحمنا و يغفر ...</td>\n",
       "      <td>0.0</td>\n",
       "      <td>الموت بهذا الفيروس فذاك يبقا قضاء الاسباب نعيش بعده فحتما، عاجلا اجلا سنموت الرجوع الاستغفار نساله تعالا يعافينا يرحمنا يغفر الموت واحد والاسباب متعدة فلما الخوف</td>\n",
       "    </tr>\n",
       "    <tr>\n",
       "      <th>2</th>\n",
       "      <td>خوتي اله ينجيكم من هاد الفيروس الخبيث يا رب العالمين حظيو ريوسكم الوقاية ثم الوقاية ثم الوقاية 💚 لي قد يتابونا اله يرحم ليه الوالدين لي مقدش اله يرحم ليه الوالدين</td>\n",
       "      <td>0.0</td>\n",
       "      <td>خوتي ينجيكم الفيروس الخبيث العالمين حظيو ريوسكم الوقاية الوقاية الوقاية يتابونا يرحم الوالدين مقدش يرحم الوالدين</td>\n",
       "    </tr>\n",
       "    <tr>\n",
       "      <th>3</th>\n",
       "      <td>الحمد له علا ان ڤيروس كورونا لا يعيش في ما فوق 22 درجة حرارية . وما كون بقا الطايح كتر من الواقف . وخير ذليل علا هذا الكلام وزير النقل وشحال من مسوول سلم عليه وشحال من واحد سلم علا كل واحد ..!!</td>\n",
       "      <td>0.0</td>\n",
       "      <td>الحمد ڤيروس كورونا يعيش درجة حرارية الطايح الواقف وخير ذليل الكلام وزير النقل وشحال مسوول عليه وشحال واحد واحد ..!!</td>\n",
       "    </tr>\n",
       "    <tr>\n",
       "      <th>4</th>\n",
       "      <td>و بخصوص الكمامات فهو علا صواب الكمامة تحمي فقط المريض لا غير</td>\n",
       "      <td>0.0</td>\n",
       "      <td>بخصوص الكمامات صواب الكمامة تحمي المريض</td>\n",
       "    </tr>\n",
       "  </tbody>\n",
       "</table>\n",
       "</div>"
      ],
      "text/plain": [
       "                                                                                                                                                                                                   comment  \\\n",
       "0                                                                                                                                                               العتماني عندو الباقة و الجدال بالغة سد فمك   \n",
       "1  ان كتب لنا الموت بهذا الفيروس فذاك يبقا قضاء و قدر و سب من الاسباب و ان كتب لنا ان نعيش بعده فحتما، عاجلا ام اجلا سنموت اهم شيء الرجوع الا اله و الاستغفار و نساله تعالا ان يعافينا و يرحمنا و يغفر ...   \n",
       "2                                       خوتي اله ينجيكم من هاد الفيروس الخبيث يا رب العالمين حظيو ريوسكم الوقاية ثم الوقاية ثم الوقاية 💚 لي قد يتابونا اله يرحم ليه الوالدين لي مقدش اله يرحم ليه الوالدين   \n",
       "3        الحمد له علا ان ڤيروس كورونا لا يعيش في ما فوق 22 درجة حرارية . وما كون بقا الطايح كتر من الواقف . وخير ذليل علا هذا الكلام وزير النقل وشحال من مسوول سلم عليه وشحال من واحد سلم علا كل واحد ..!!   \n",
       "4                                                                                                                                             و بخصوص الكمامات فهو علا صواب الكمامة تحمي فقط المريض لا غير   \n",
       "\n",
       "   label  \\\n",
       "0    0.0   \n",
       "1    0.0   \n",
       "2    0.0   \n",
       "3    0.0   \n",
       "4    0.0   \n",
       "\n",
       "                                                                                                                                                        tidy_comment  \n",
       "0                                                                                                                                  العتماني عندو الباقة الجدال بالغة  \n",
       "1  الموت بهذا الفيروس فذاك يبقا قضاء الاسباب نعيش بعده فحتما، عاجلا اجلا سنموت الرجوع الاستغفار نساله تعالا يعافينا يرحمنا يغفر الموت واحد والاسباب متعدة فلما الخوف  \n",
       "2                                                   خوتي ينجيكم الفيروس الخبيث العالمين حظيو ريوسكم الوقاية الوقاية الوقاية يتابونا يرحم الوالدين مقدش يرحم الوالدين  \n",
       "3                                                الحمد ڤيروس كورونا يعيش درجة حرارية الطايح الواقف وخير ذليل الكلام وزير النقل وشحال مسوول عليه وشحال واحد واحد ..!!  \n",
       "4                                                                                                                            بخصوص الكمامات صواب الكمامة تحمي المريض  "
      ]
     },
     "execution_count": 57,
     "metadata": {},
     "output_type": "execute_result"
    }
   ],
   "source": [
    "combi.head()"
   ]
  },
  {
   "cell_type": "code",
   "execution_count": 58,
   "metadata": {
    "colab": {},
    "colab_type": "code",
    "id": "PCHBU4xNiiT6"
   },
   "outputs": [],
   "source": [
    "tokenized_tweet = combi['tidy_comment'].apply(lambda x: x.split()) # tokenizing"
   ]
  },
  {
   "cell_type": "code",
   "execution_count": 59,
   "metadata": {
    "colab": {
     "base_uri": "https://localhost:8080/",
     "height": 224
    },
    "colab_type": "code",
    "id": "fU-aBZu3it_7",
    "outputId": "44d34675-a686-4881-fdac-48846a8755f0"
   },
   "outputs": [
    {
     "data": {
      "text/plain": [
       "0                                                                                                                                                                    [العتماني, عندو, الباقة, الجدال, بالغة]\n",
       "1               [الموت, بهذا, الفيروس, فذاك, يبقا, قضاء, الاسباب, نعيش, بعده, فحتما،, عاجلا, اجلا, سنموت, الرجوع, الاستغفار, نساله, تعالا, يعافينا, يرحمنا, يغفر, الموت, واحد, والاسباب, متعدة, فلما, الخوف]\n",
       "2                                                                          [خوتي, ينجيكم, الفيروس, الخبيث, العالمين, حظيو, ريوسكم, الوقاية, الوقاية, الوقاية, يتابونا, يرحم, الوالدين, مقدش, يرحم, الوالدين]\n",
       "3                                                                   [الحمد, ڤيروس, كورونا, يعيش, درجة, حرارية, الطايح, الواقف, وخير, ذليل, الكلام, وزير, النقل, وشحال, مسوول, عليه, وشحال, واحد, واحد, ..!!]\n",
       "4                                                                                                                                                             [بخصوص, الكمامات, صواب, الكمامة, تحمي, المريض]\n",
       "5                                                                                                                              [صحفية, المستوا, واعية, تطرح, اسيلة, وكانها, تكلم, بلسان, مواطن, مغربي, تحية]\n",
       "6    [كدوي, مافاهما, والو, ركزتو, فهضرتو, تفهمو, بزاف, لاسف, مكنسمعوش, نفهمو, كنسمعو, نجاوبو, سلام, حبسو, لقرايا, تجلس, فدارها, وحدين, نايضين, كيسافرو, كيخرجو, ماواخدش, الامر, بجدية, كنرجعو, الوم, الحك...\n",
       "7                                                                                                                                                                                             [يحفظ, بلادنا]\n",
       "8    [الاخوان, فترة, ليست, لتبادل, الكلام, الفيروس, مازال, فترته, الاولا, ويجب, علينا, الاتحاد, النجاة, بحياتنا, وحياة, ابناينا, واباينا, فهدا, المرض, بايطاليا, وفرنسا, وامريكا, تطورهم, وتوفرهم, امكاني...\n",
       "9                                                                                                                                                                                             [يصيبنا, لنا💓]\n",
       "Name: tidy_comment, dtype: object"
      ]
     },
     "execution_count": 59,
     "metadata": {},
     "output_type": "execute_result"
    }
   ],
   "source": [
    "tokenized_tweet.head(10)"
   ]
  },
  {
   "cell_type": "code",
   "execution_count": 60,
   "metadata": {
    "colab": {},
    "colab_type": "code",
    "id": "0c6lil0iiyvJ"
   },
   "outputs": [],
   "source": [
    "from nltk.stem.porter import *\n",
    "stemmer = PorterStemmer()\n",
    "\n",
    "tokenized_tweet = tokenized_tweet.apply(lambda x: [stemmer.stem(i) for i in x]) # stemming"
   ]
  },
  {
   "cell_type": "code",
   "execution_count": 61,
   "metadata": {},
   "outputs": [],
   "source": [
    "from nltk.stem.snowball import SnowballStemmer\n",
    "from nltk.tokenize import casual_tokenize\n",
    "stemmer = SnowballStemmer('arabic')"
   ]
  },
  {
   "cell_type": "code",
   "execution_count": 62,
   "metadata": {
    "colab": {
     "base_uri": "https://localhost:8080/",
     "height": 34
    },
    "colab_type": "code",
    "id": "Sga1U5PnFVmA",
    "outputId": "ebc69fa3-17a1-4c32-a902-f39b34f17dc2"
   },
   "outputs": [
    {
     "data": {
      "text/plain": [
       "'يروس'"
      ]
     },
     "execution_count": 62,
     "metadata": {},
     "output_type": "execute_result"
    }
   ],
   "source": [
    "ar_stemmer = SnowballStemmer(\"arabic\",True)\n",
    "ar_stemmer.stem(\"فيروسات\")\n",
    "#ar_stemmer.stem(\"فقالوا\")"
   ]
  },
  {
   "cell_type": "code",
   "execution_count": 63,
   "metadata": {
    "colab": {},
    "colab_type": "code",
    "id": "pGXOtd_li6_b"
   },
   "outputs": [],
   "source": [
    "for i in range(len(tokenized_tweet)):\n",
    "    tokenized_tweet[i] = ' '.join(tokenized_tweet[i])\n",
    "    \n",
    "combi['tidy_comment'] = tokenized_tweet"
   ]
  },
  {
   "cell_type": "code",
   "execution_count": 107,
   "metadata": {},
   "outputs": [
    {
     "data": {
      "text/plain": [
       "0                                                                                                                                                                 العتماني عندو الباقة و الجدال بالغة سد فمك\n",
       "1    ان كتب لنا الموت بهذا الفيروس فذاك يبقا قضاء و قدر و سب من الاسباب و ان كتب لنا ان نعيش بعده فحتما، عاجلا ام اجلا سنموت اهم شيء الرجوع الا اله و الاستغفار و نساله تعالا ان يعافينا و يرحمنا و يغفر ...\n",
       "2                                         خوتي اله ينجيكم من هاد الفيروس الخبيث يا رب العالمين حظيو ريوسكم الوقاية ثم الوقاية ثم الوقاية 💚 لي قد يتابونا اله يرحم ليه الوالدين لي مقدش اله يرحم ليه الوالدين\n",
       "3          الحمد له علا ان ڤيروس كورونا لا يعيش في ما فوق 22 درجة حرارية . وما كون بقا الطايح كتر من الواقف . وخير ذليل علا هذا الكلام وزير النقل وشحال من مسوول سلم عليه وشحال من واحد سلم علا كل واحد ..!!\n",
       "4                                                                                                                                               و بخصوص الكمامات فهو علا صواب الكمامة تحمي فقط المريض لا غير\n",
       "5                                                                                                                               صحفية في المستوا و واعية تطرح اسيلة وكانها تكلم بلسان كل مواطن مغربي تحية 👍🏿\n",
       "6    ناس كدوي مافاهما والو راه الا ركزتو فهضرتو غ تفهمو بزاف لكن مع لاسف حنا مكنسمعوش باش نفهمو كنسمعو غير باش نجاوبو و سلام هما حبسو لقرايا باش ناس تجلس فدارها و شي وحدين نايضين كيسافرو و كيخرجو شعب م...\n",
       "7                                                                                                                                                                                            اله يحفظ بلادنا\n",
       "8    الاخوان نحن في فترة ليست لتبادل الكلام الفيروس مازال في فترته الاولا ويجب علينا الاتحاد من اجل النجاة بحياتنا وحياة ابناينا واباينا فهدا المرض فتك بايطاليا وفرنسا وامريكا رغم تطورهم وتوفرهم علا ام...\n",
       "9                                                                                                                                                                              لن يصيبنا الا ما كتب اله لنا💓\n",
       "Name: comment, dtype: object"
      ]
     },
     "execution_count": 107,
     "metadata": {},
     "output_type": "execute_result"
    }
   ],
   "source": [
    "train['comment'].head(10)"
   ]
  },
  {
   "cell_type": "code",
   "execution_count": 55,
   "metadata": {
    "colab": {
     "base_uri": "https://localhost:8080/",
     "height": 204
    },
    "colab_type": "code",
    "id": "USiQJZqIjFVs",
    "outputId": "77bb9c92-4047-4152-a0a3-8cb598f56cbb"
   },
   "outputs": [
    {
     "data": {
      "text/plain": [
       "0                                                                                                                                                                          العتماني عندو الباقة الجدال بالغة\n",
       "1                                          الموت بهذا الفيروس فذاك يبقا قضاء الاسباب نعيش بعده فحتما، عاجلا اجلا سنموت الرجوع الاستغفار نساله تعالا يعافينا يرحمنا يغفر الموت واحد والاسباب متعدة فلما الخوف\n",
       "2                                                                                           خوتي ينجيكم الفيروس الخبيث العالمين حظيو ريوسكم الوقاية الوقاية الوقاية يتابونا يرحم الوالدين مقدش يرحم الوالدين\n",
       "3                                                                                        الحمد ڤيروس كورونا يعيش درجة حرارية الطايح الواقف وخير ذليل الكلام وزير النقل وشحال مسوول عليه وشحال واحد واحد ..!!\n",
       "4                                                                                                                                                                    بخصوص الكمامات صواب الكمامة تحمي المريض\n",
       "5                                                                                                                                          صحفية المستوا واعية تطرح اسيلة وكانها تكلم بلسان مواطن مغربي تحية\n",
       "6                               كدوي مافاهما والو ركزتو فهضرتو تفهمو بزاف لاسف مكنسمعوش نفهمو كنسمعو نجاوبو سلام حبسو لقرايا تجلس فدارها وحدين نايضين كيسافرو كيخرجو ماواخدش الامر بجدية كنرجعو الوم الحكومه\n",
       "7                                                                                                                                                                                                يحفظ بلادنا\n",
       "8    الاخوان فترة ليست لتبادل الكلام الفيروس مازال فترته الاولا ويجب علينا الاتحاد النجاة بحياتنا وحياة ابناينا واباينا فهدا المرض بايطاليا وفرنسا وامريكا تطورهم وتوفرهم امكانيات كبيرة المغرب استمر الك...\n",
       "9                                                                                                                                                                                                يصيبنا لنا💓\n",
       "Name: tidy_comment, dtype: object"
      ]
     },
     "execution_count": 55,
     "metadata": {},
     "output_type": "execute_result"
    }
   ],
   "source": [
    "combi['tidy_comment'].head(10)"
   ]
  },
  {
   "cell_type": "markdown",
   "metadata": {},
   "source": [
    "# Using Word2Vec"
   ]
  },
  {
   "cell_type": "code",
   "execution_count": 27,
   "metadata": {
    "colab": {},
    "colab_type": "code",
    "id": "AiC84jbym0Ry"
   },
   "outputs": [],
   "source": [
    "from gensim.models import Word2Vec"
   ]
  },
  {
   "cell_type": "code",
   "execution_count": 28,
   "metadata": {
    "colab": {
     "base_uri": "https://localhost:8080/",
     "height": 34
    },
    "colab_type": "code",
    "id": "vZNLpxTmnRV8",
    "outputId": "4c938347-974e-48aa-a9f6-4f0a1db82058"
   },
   "outputs": [
    {
     "data": {
      "text/plain": [
       "(797270, 1474080)"
      ]
     },
     "execution_count": 28,
     "metadata": {},
     "output_type": "execute_result"
    }
   ],
   "source": [
    "tokenized_tweet = combi['tidy_comment'].apply(lambda x: x.split()) # tokenizing\n",
    "\n",
    "model_w2v = Word2Vec(tokenized_tweet, size=200,  window=5)\n",
    "\n",
    "model_w2v.train(tokenized_tweet, total_examples= len(combi['tidy_comment']), epochs=20)"
   ]
  },
  {
   "cell_type": "code",
   "execution_count": 29,
   "metadata": {
    "colab": {
     "base_uri": "https://localhost:8080/",
     "height": 241
    },
    "colab_type": "code",
    "id": "TTC4k1e0nw_m",
    "outputId": "08cfa698-c96c-4cbd-8e4c-7c967beac044"
   },
   "outputs": [
    {
     "data": {
      "text/plain": [
       "[('رييس', 0.9700480699539185),\n",
       " ('الشعب', 0.9660917520523071),\n",
       " ('المواطن', 0.9625692367553711),\n",
       " ('العثماني', 0.9531437754631042),\n",
       " ('الشركات', 0.9449836611747742),\n",
       " ('مطالبة', 0.9268063306808472),\n",
       " ('المغربي', 0.9199914336204529),\n",
       " ('حكومة', 0.9111768007278442),\n",
       " ('المصانع', 0.9071332216262817),\n",
       " ('اصحاب', 0.900924801826477)]"
      ]
     },
     "execution_count": 29,
     "metadata": {},
     "output_type": "execute_result"
    }
   ],
   "source": [
    "model_w2v.wv.most_similar(positive=\"الحكومة\")"
   ]
  },
  {
   "cell_type": "code",
   "execution_count": 30,
   "metadata": {
    "colab": {
     "base_uri": "https://localhost:8080/",
     "height": 241
    },
    "colab_type": "code",
    "id": "d-6XF_scoKVT",
    "outputId": "bdf68ce1-060d-40b5-b2d0-cb2b60437837"
   },
   "outputs": [
    {
     "data": {
      "text/plain": [
       "[('الحكومة', 0.9660915732383728),\n",
       " ('المواطن', 0.9564990401268005),\n",
       " ('العثماني', 0.9549548625946045),\n",
       " ('الشركات', 0.9547432661056519),\n",
       " ('رييس', 0.9487085342407227),\n",
       " ('المغربي', 0.9320697784423828),\n",
       " ('استهتار', 0.9274996519088745),\n",
       " ('المصانع', 0.9232598543167114),\n",
       " ('مطالبة', 0.9197332859039307),\n",
       " ('حكومة', 0.9195549488067627)]"
      ]
     },
     "execution_count": 30,
     "metadata": {},
     "output_type": "execute_result"
    }
   ],
   "source": [
    "model_w2v.wv.most_similar(positive=\"الشعب\")"
   ]
  },
  {
   "cell_type": "code",
   "execution_count": 31,
   "metadata": {
    "colab": {},
    "colab_type": "code",
    "id": "9XZzavCOoRgN"
   },
   "outputs": [],
   "source": [
    "def word_vector(tokens, size):\n",
    "    vec = np.zeros(size).reshape((1, size))\n",
    "    count = 0.\n",
    "    for word in tokens:\n",
    "        try:\n",
    "            vec += model_w2v[word].reshape((1, size))\n",
    "            count += 1.\n",
    "        except KeyError: # handling the case where the token is not in vocabulary\n",
    "                         \n",
    "            continue\n",
    "    if count != 0:\n",
    "        vec /= count\n",
    "    return vec\n",
    "#!!!!!!!"
   ]
  },
  {
   "cell_type": "code",
   "execution_count": 32,
   "metadata": {
    "colab": {
     "base_uri": "https://localhost:8080/",
     "height": 34
    },
    "colab_type": "code",
    "id": "4LvQqkWyodTv",
    "outputId": "56b5d4ec-afbb-44b5-d8c1-9b3bfd8fcfc4"
   },
   "outputs": [
    {
     "data": {
      "text/plain": [
       "(5684, 200)"
      ]
     },
     "execution_count": 32,
     "metadata": {},
     "output_type": "execute_result"
    }
   ],
   "source": [
    "wordvec_arrays = np.zeros((len(tokenized_tweet), 200))\n",
    "\n",
    "for i in range(len(tokenized_tweet)):\n",
    "    wordvec_arrays[i,:] = word_vector(tokenized_tweet[i], 200)\n",
    "    \n",
    "wordvec_df = pd.DataFrame(wordvec_arrays)\n",
    "wordvec_df.shape"
   ]
  },
  {
   "cell_type": "markdown",
   "metadata": {},
   "source": [
    "# Train Model using word2Vec"
   ]
  },
  {
   "cell_type": "code",
   "execution_count": 33,
   "metadata": {
    "colab": {
     "base_uri": "https://localhost:8080/",
     "height": 34
    },
    "colab_type": "code",
    "id": "0rselOnZvZcY",
    "outputId": "aae8ffbd-bdbe-49fc-8c77-025aebf370d4"
   },
   "outputs": [
    {
     "name": "stdout",
     "output_type": "stream",
     "text": [
      "(4337, 200) (4337,)\n"
     ]
    }
   ],
   "source": [
    "from sklearn.model_selection import train_test_split\n",
    "\n",
    "\n",
    "train_w2v = wordvec_df.iloc[:4337,:]\n",
    "test_w2v = wordvec_df.iloc[4337:,:]\n",
    "\n",
    "_, _, ytrain, yvalid = train_test_split(train_w2v, train['label'],  \n",
    "                                                          random_state=42, \n",
    "                                                          test_size=0.3)\n",
    "\n",
    "\n",
    "\n",
    "print(train_w2v.shape, train['label'].shape)\n",
    "\n",
    "xtrain_w2v = train_w2v.iloc[ytrain.index,:]\n",
    "xvalid_w2v = train_w2v.iloc[yvalid.index,:]\n"
   ]
  },
  {
   "cell_type": "code",
   "execution_count": 36,
   "metadata": {
    "colab": {
     "base_uri": "https://localhost:8080/",
     "height": 377
    },
    "colab_type": "code",
    "id": "0idPvNxJsehD",
    "outputId": "a8564f86-381b-47f8-f335-09a5f31263dd",
    "scrolled": false
   },
   "outputs": [
    {
     "name": "stdout",
     "output_type": "stream",
     "text": [
      "Epoch 1/25\n",
      "3/3 [==============================] - 1s 174ms/step - loss: 0.6181 - accuracy: 0.6422 - val_loss: 0.5549 - val_accuracy: 0.7389\n",
      "Epoch 2/25\n",
      "3/3 [==============================] - 0s 50ms/step - loss: 0.4950 - accuracy: 0.7720 - val_loss: 0.5043 - val_accuracy: 0.7757\n",
      "Epoch 3/25\n",
      "3/3 [==============================] - 0s 36ms/step - loss: 0.4761 - accuracy: 0.7967 - val_loss: 0.5134 - val_accuracy: 0.7711\n",
      "Epoch 4/25\n",
      "3/3 [==============================] - 0s 36ms/step - loss: 0.4709 - accuracy: 0.8010 - val_loss: 0.5064 - val_accuracy: 0.7711\n",
      "Accuracy:  0.7711213517665131\n",
      "Classification Report: \n",
      "              precision    recall  f1-score   support\n",
      "\n",
      "           0       0.78      0.49      0.60       461\n",
      "           1       0.77      0.93      0.84       841\n",
      "\n",
      "    accuracy                           0.77      1302\n",
      "   macro avg       0.78      0.71      0.72      1302\n",
      "weighted avg       0.77      0.77      0.76      1302\n",
      "\n"
     ]
    }
   ],
   "source": [

    "epochs = 25\n",
    "batch_size = 1024\n",
    "loss = \"binary_crossentropy\"\n",
    "optimizer = \"adam\"\n",
    "metrics = [\"accuracy\"]\n",
    "\n",
    "from keras import models\n",
    "\n",
    "callbacks = [EarlyStopping(monitor='val_loss', patience=2),\n",
    "            ModelCheckpoint(filepath='best_model.h5', monitor='val_loss', save_best_only=True)]\n",
    "\n",
    "# Build neural network\n",
    "model = models.Sequential()\n",
    "model.add(Dense(512, activation='relu', input_shape=(200,)))\n",
    "model.add(Dense(512, activation='relu'))\n",
    "model.add(Dense(1, activation='sigmoid'))\n",
    "model.compile(loss=loss,optimizer=optimizer,metrics= metrics)\n",
    "history = model.fit(xtrain_w2v,ytrain,epochs=epochs,batch_size=batch_size,callbacks=callbacks,validation_data=(xvalid_w2v,yvalid))\n",
    "\n",
    "\n",
    "predictions = model.predict(xvalid_w2v)\n",
    "predictions = [0 if i<0.5 else 1 for i in predictions]\n",
    "\n",
    "f1_score(yvalid, predictions)\n",
    "print(\"Accuracy: \",accuracy_score(yvalid,predictions))\n",
    "print(\"Classification Report: \")\n",
    "print(classification_report(yvalid,predictions))\n"
   ]
  },
  {
   "cell_type": "code",
   "execution_count": 35,
   "metadata": {
    "colab": {},
    "colab_type": "code",
    "id": "3QaKePh9KmM6"
   },
   "outputs": [
    {
     "ename": "AttributeError",
     "evalue": "'FastText' object has no attribute 'predict'",
     "output_type": "error",
     "traceback": [
      "\u001b[1;31m---------------------------------------------------------------------------\u001b[0m",
      "\u001b[1;31mAttributeError\u001b[0m                            Traceback (most recent call last)",
      "\u001b[1;32m<ipython-input-35-1d35090b2f1a>\u001b[0m in \u001b[0;36m<module>\u001b[1;34m\u001b[0m\n\u001b[1;32m----> 1\u001b[1;33m \u001b[0mtest_pred\u001b[0m \u001b[1;33m=\u001b[0m \u001b[0mmodel\u001b[0m\u001b[1;33m.\u001b[0m\u001b[0mpredict\u001b[0m\u001b[1;33m(\u001b[0m\u001b[0mtest_w2v\u001b[0m\u001b[1;33m)\u001b[0m\u001b[1;33m\u001b[0m\u001b[1;33m\u001b[0m\u001b[0m\n\u001b[0m\u001b[0;32m      2\u001b[0m \u001b[0mtest_pred\u001b[0m \u001b[1;33m=\u001b[0m \u001b[1;33m[\u001b[0m\u001b[1;36m0\u001b[0m \u001b[1;32mif\u001b[0m \u001b[0mi\u001b[0m\u001b[1;33m<\u001b[0m\u001b[1;36m0.5\u001b[0m \u001b[1;32melse\u001b[0m \u001b[1;36m1\u001b[0m \u001b[1;32mfor\u001b[0m \u001b[0mi\u001b[0m \u001b[1;32min\u001b[0m \u001b[0mtest_pred\u001b[0m\u001b[1;33m]\u001b[0m\u001b[1;33m\u001b[0m\u001b[1;33m\u001b[0m\u001b[0m\n\u001b[0;32m      3\u001b[0m \u001b[1;33m\u001b[0m\u001b[0m\n\u001b[0;32m      4\u001b[0m \u001b[0mtest\u001b[0m\u001b[1;33m[\u001b[0m\u001b[1;34m'label'\u001b[0m\u001b[1;33m]\u001b[0m \u001b[1;33m=\u001b[0m \u001b[0mtest_pred\u001b[0m\u001b[1;33m\u001b[0m\u001b[1;33m\u001b[0m\u001b[0m\n\u001b[0;32m      5\u001b[0m \u001b[0msubmission\u001b[0m \u001b[1;33m=\u001b[0m \u001b[0mtest\u001b[0m\u001b[1;33m[\u001b[0m\u001b[1;33m[\u001b[0m\u001b[1;34m'comment'\u001b[0m\u001b[1;33m,\u001b[0m\u001b[1;34m'label'\u001b[0m\u001b[1;33m]\u001b[0m\u001b[1;33m]\u001b[0m\u001b[1;33m\u001b[0m\u001b[1;33m\u001b[0m\u001b[0m\n",
      "\u001b[1;31mAttributeError\u001b[0m: 'FastText' object has no attribute 'predict'"
     ]
    }
   ],
   "source": [
    "test_pred = model.predict(test_w2v)\n",
    "test_pred = [0 if i<0.5 else 1 for i in test_pred]\n",
    "\n",
    "test['label'] = test_pred\n",
    "submission = test[['comment','label']]\n",
    "submission.to_excel('model_result3.xlsx', index=False)\n"
   ]
  },
  {
   "cell_type": "code",
   "execution_count": 83,
   "metadata": {},
   "outputs": [
    {
     "data": {
      "image/png": "[encoded data removed]",
      "text/plain": [
       "<Figure size 432x288 with 1 Axes>"
      ]
     },
     "metadata": {
      "needs_background": "light"
     },
     "output_type": "display_data"
    },
    {
     "data": {
      "image/png": "[encoded data removed]",
      "text/plain": [
       "<Figure size 432x288 with 1 Axes>"
      ]
     },
     "metadata": {
      "needs_background": "light"
     },
     "output_type": "display_data"
    }
   ],
   "source": [
    "def plot_history(history):\n",
    "    plt.plot(history.history['loss'],'r--')\n",
    "    plt.plot(history.history['val_loss'],'b-')\n",
    "    plt.title('Model Loss Word2Vec')\n",
    "    plt.legend(['Train Loss', 'Valid Loss'])\n",
    "    plt.xlabel('Epoch')\n",
    "    plt.ylabel('Loss')\n",
    "    plt.show();\n",
    "    plt.plot(history.history['accuracy'],'r--')\n",
    "    plt.plot(history.history['val_accuracy'],'b-')\n",
    "    plt.title('Model Accuracy Word2vec')\n",
    "    plt.legend(['Train Acc', 'Valid Acc'])\n",
    "    plt.ylabel('Accuracy')\n",
    "    plt.xlabel('Epoch')\n",
    "    plt.show()\n",
    "\n",
    "# requires history=model.fit, fit_generator...\n",
    "plot_history(history)"
   ]
  },
  {
   "cell_type": "code",
   "execution_count": null,
   "metadata": {
    "colab": {
     "base_uri": "https://localhost:8080/",
     "height": 142
    },
    "colab_type": "code",
    "id": "1Ci977CnKVe3",
    "outputId": "4614de4a-fb24-41e9-b78f-2091322c9dd2"
   },
   "outputs": [],
   "source": [
    "test.head(10)"
   ]
  },
  {
   "cell_type": "code",
   "execution_count": 58,
   "metadata": {
    "colab": {
     "base_uri": "https://localhost:8080/",
     "height": 419
    },
    "colab_type": "code",
    "id": "6NDo-KA_UoX2",
    "outputId": "74e5bc1a-2a66-48ce-8b34-89fce52a0396"
   },
   "outputs": [
    {
     "data": {
      "text/html": [
       "<div>\n",
       "<style scoped>\n",
       "    .dataframe tbody tr th:only-of-type {\n",
       "        vertical-align: middle;\n",
       "    }\n",
       "\n",
       "    .dataframe tbody tr th {\n",
       "        vertical-align: top;\n",
       "    }\n",
       "\n",
       "    .dataframe thead th {\n",
       "        text-align: right;\n",
       "    }\n",
       "</style>\n",
       "<table border=\"1\" class=\"dataframe\">\n",
       "  <thead>\n",
       "    <tr style=\"text-align: right;\">\n",
       "      <th></th>\n",
       "      <th>comment</th>\n",
       "      <th>label</th>\n",
       "    </tr>\n",
       "  </thead>\n",
       "  <tbody>\n",
       "    <tr>\n",
       "      <th>0</th>\n",
       "      <td>كنشكركم ولكن ينبغي زيادة في عد تحليلات لاحاطة بالمرض</td>\n",
       "      <td>1</td>\n",
       "    </tr>\n",
       "    <tr>\n",
       "      <th>1</th>\n",
       "      <td>كنشكرو جميع الاطباء علا مجهوات</td>\n",
       "      <td>0</td>\n",
       "    </tr>\n",
       "    <tr>\n",
       "      <th>2</th>\n",
       "      <td>كنشكرو كل جهود لي كتقوم بيها وزارة راه مشي ساهل انها تقوم بمواكبة اخر مستجدات ونشرها علا مدار الساعة ولكل الاطقم موجودة داخل مستشفيات لي معندهوم اي عطلة ولا استراحة ربي يكون معاكم</td>\n",
       "      <td>1</td>\n",
       "    </tr>\n",
       "    <tr>\n",
       "      <th>3</th>\n",
       "      <td>كنطالب منكم تنصحو ناس لي خدمين في الامن والقوات المساعدة اديرو حتياطتهم حت هما تكونو علا تصال بزاف مع اناس لي علا برة</td>\n",
       "      <td>1</td>\n",
       "    </tr>\n",
       "    <tr>\n",
       "      <th>4</th>\n",
       "      <td>كنطالبو من الحكومة تفرض علا كل واحد خرج من المنزل ديالوالبس الكمامة ديالو اجباري لتفادي الاسوا.</td>\n",
       "      <td>1</td>\n",
       "    </tr>\n",
       "    <tr>\n",
       "      <th>...</th>\n",
       "      <td>...</td>\n",
       "      <td>...</td>\n",
       "    </tr>\n",
       "    <tr>\n",
       "      <th>755</th>\n",
       "      <td>موقعنا الجغرافي سلاح دو حدين مزيان و صعيب بحال هاذ الحالة د كورونا بالامكانيات لي عندنا راه براڤو علا الجميع و خاصة الطب و الداخلية و شويا الاعلام.و تحية لموالين لفلوس لي كانو رجال بالصراحة 32 ملي...</td>\n",
       "      <td>1</td>\n",
       "    </tr>\n",
       "    <tr>\n",
       "      <th>756</th>\n",
       "      <td>يا اخي اله المستعان. عد الاختبارات غير كاف و الفية المعنية به ضعيفة. الدول اصبحت في سباق مع الزمن لانجاز اكبر عد من الاختبارات اليومية و حصر اكبر عد من الحاملين لفيروس و المصابين. في هذه الظروف مر...</td>\n",
       "      <td>1</td>\n",
       "    </tr>\n",
       "    <tr>\n",
       "      <th>757</th>\n",
       "      <td>ميجيو اكملوا تحاليل حتا كلشي اتعادا🤐</td>\n",
       "      <td>1</td>\n",
       "    </tr>\n",
       "    <tr>\n",
       "      <th>758</th>\n",
       "      <td>ميكونوش غا الموتا، اما المتعافون يقدوا يتعافاو في مرة، كنظن هذا مزيد من الاحتياط بش يتاكدوا مزيان من الشفاء ديالهم. اله يشافيهم ويحفظنا اجمعين.</td>\n",
       "      <td>1</td>\n",
       "    </tr>\n",
       "    <tr>\n",
       "      <th>759</th>\n",
       "      <td>ميمكنش اديرو تجميد راه غيقتلو اﻹقتصاد</td>\n",
       "      <td>1</td>\n",
       "    </tr>\n",
       "  </tbody>\n",
       "</table>\n",
       "<p>760 rows × 2 columns</p>\n",
       "</div>"
      ],
      "text/plain": [
       "                                                                                                                                                                                                     comment  \\\n",
       "0                                                                                                                                                       كنشكركم ولكن ينبغي زيادة في عد تحليلات لاحاطة بالمرض   \n",
       "1                                                                                                                                                                             كنشكرو جميع الاطباء علا مجهوات   \n",
       "2                        كنشكرو كل جهود لي كتقوم بيها وزارة راه مشي ساهل انها تقوم بمواكبة اخر مستجدات ونشرها علا مدار الساعة ولكل الاطقم موجودة داخل مستشفيات لي معندهوم اي عطلة ولا استراحة ربي يكون معاكم   \n",
       "3                                                                                      كنطالب منكم تنصحو ناس لي خدمين في الامن والقوات المساعدة اديرو حتياطتهم حت هما تكونو علا تصال بزاف مع اناس لي علا برة   \n",
       "4                                                                                                            كنطالبو من الحكومة تفرض علا كل واحد خرج من المنزل ديالوالبس الكمامة ديالو اجباري لتفادي الاسوا.   \n",
       "..                                                                                                                                                                                                       ...   \n",
       "755  موقعنا الجغرافي سلاح دو حدين مزيان و صعيب بحال هاذ الحالة د كورونا بالامكانيات لي عندنا راه براڤو علا الجميع و خاصة الطب و الداخلية و شويا الاعلام.و تحية لموالين لفلوس لي كانو رجال بالصراحة 32 ملي...   \n",
       "756  يا اخي اله المستعان. عد الاختبارات غير كاف و الفية المعنية به ضعيفة. الدول اصبحت في سباق مع الزمن لانجاز اكبر عد من الاختبارات اليومية و حصر اكبر عد من الحاملين لفيروس و المصابين. في هذه الظروف مر...   \n",
       "757                                                                                                                                                                     ميجيو اكملوا تحاليل حتا كلشي اتعادا🤐   \n",
       "758                                                          ميكونوش غا الموتا، اما المتعافون يقدوا يتعافاو في مرة، كنظن هذا مزيد من الاحتياط بش يتاكدوا مزيان من الشفاء ديالهم. اله يشافيهم ويحفظنا اجمعين.   \n",
       "759                                                                                                                                                                    ميمكنش اديرو تجميد راه غيقتلو اﻹقتصاد   \n",
       "\n",
       "     label  \n",
       "0        1  \n",
       "1        0  \n",
       "2        1  \n",
       "3        1  \n",
       "4        1  \n",
       "..     ...  \n",
       "755      1  \n",
       "756      1  \n",
       "757      1  \n",
       "758      1  \n",
       "759      1  \n",
       "\n",
       "[760 rows x 2 columns]"
      ]
     },
     "execution_count": 58,
     "metadata": {},
     "output_type": "execute_result"
    }
   ],
   "source": [
    "submission"
   ]
  },
  {
   "cell_type": "markdown",
   "metadata": {},
   "source": [
    "# FastText Using DeepLearning"
   ]
  },
  {
   "cell_type": "code",
   "execution_count": 86,
   "metadata": {
    "colab": {},
    "colab_type": "code",
    "id": "iFWOGiyIHt8U"
   },
   "outputs": [],
   "source": [
    " from gensim.models import FastText"
   ]
  },
  {
   "cell_type": "code",
   "execution_count": 87,
   "metadata": {
    "colab": {},
    "colab_type": "code",
    "id": "nTpsFSf0HtNq"
   },
   "outputs": [
    {
     "name": "stdout",
     "output_type": "stream",
     "text": [
      "Training a Gensim FastText model\n",
      "Training complete\n"
     ]
    }
   ],
   "source": [
    "print(\"Training a Gensim FastText model\")\n",
    "model = FastText(sentences=tokenized_tweet, size = 200, window = 2) # workers = workers, \n",
    "print(\"Training complete\")"
   ]
  },
  {
   "cell_type": "code",
   "execution_count": 88,
   "metadata": {
    "colab": {},
    "colab_type": "code",
    "id": "-R_0-SKdHsbD",
    "scrolled": true
   },
   "outputs": [
    {
     "data": {
      "text/plain": [
       "[('_', 0.06458057463169098),\n",
       " ('#', 0.059374067932367325),\n",
       " ('!', 0.035827770829200745),\n",
       " ('1', 0.033711664378643036),\n",
       " ('6', 0.02987004444003105),\n",
       " ('4', 0.02952641062438488),\n",
       " ('ء', 0.029179807752370834),\n",
       " ('؟', 0.020406633615493774),\n",
       " ('️', 0.018190763890743256),\n",
       " ('8', 0.01733882911503315)]"
      ]
     },
     "execution_count": 88,
     "metadata": {},
     "output_type": "execute_result"
    }
   ],
   "source": [
    "model.most_similar(positive=\"الحكومة\")"
   ]
  },
  {
   "cell_type": "code",
   "execution_count": 89,
   "metadata": {
    "colab": {},
    "colab_type": "code",
    "id": "35o2o5gXHsA-"
   },
   "outputs": [],
   "source": [
    "def word_vector(tokens, size):\n",
    "    vec = np.zeros(size).reshape((1, size))\n",
    "    count = 0.\n",
    "    for word in tokens:\n",
    "        try:\n",
    "            vec += model[word].reshape((1, size))\n",
    "            count += 1.\n",
    "        except KeyError: # handling the case where the token is not in vocabulary\n",
    "                         \n",
    "            continue\n",
    "    if count != 0:\n",
    "        vec /= count\n",
    "    return vec"
   ]
  },
  {
   "cell_type": "code",
   "execution_count": 90,
   "metadata": {
    "colab": {},
    "colab_type": "code",
    "id": "b1C5GX_fHrAx"
   },
   "outputs": [
    {
     "data": {
      "text/plain": [
       "(5684, 200)"
      ]
     },
     "execution_count": 90,
     "metadata": {},
     "output_type": "execute_result"
    }
   ],
   "source": [
    "###########################################\n",
    "fasttext_arrays = np.zeros((len(tokenized_tweet), 200))\n",
    "\n",
    "for i in range(len(tokenized_tweet)):\n",
    "    fasttext_arrays[i,:] = word_vector(tokenized_tweet[i], 200)\n",
    "    \n",
    "fasttext_df = pd.DataFrame(fasttext_arrays)\n",
    "fasttext_df.shape\n",
    "#############################################"
   ]
  },
  {
   "cell_type": "markdown",
   "metadata": {},
   "source": [
    "# Train Model using FastText"
   ]
  },
  {
   "cell_type": "code",
   "execution_count": 91,
   "metadata": {},
   "outputs": [
    {
     "name": "stdout",
     "output_type": "stream",
     "text": [
      "(4337, 200) (4337,)\n"
     ]
    }
   ],
   "source": [
    "from sklearn.model_selection import train_test_split\n",
    "\n",
    "train_ft = fasttext_df.iloc[:4337,:]\n",
    "test_ft = fasttext_df.iloc[4337:,:]\n",
    "\n",
    "_, _, ytrain, yvalid = train_test_split(train_ft, train['label'],  \n",
    "                                                          random_state=42, \n",
    "                                                          test_size=0.3)\n",
    "\n",
    "\n",
    "\n",
    "print(train_ft.shape, train['label'].shape)\n",
    "\n",
    "xtrain_ft = train_ft.iloc[ytrain.index,:]\n",
    "xvalid_ft = train_ft.iloc[yvalid.index,:]"
   ]
  },
  {
   "cell_type": "code",
   "execution_count": 94,
   "metadata": {},
   "outputs": [
    {
     "name": "stdout",
     "output_type": "stream",
     "text": [
      "Epoch 1/25\n",
      "3/3 [==============================] - 0s 152ms/step - loss: 0.6511 - accuracy: 0.6771 - val_loss: 0.6758 - val_accuracy: 0.6459\n",
      "Epoch 2/25\n",
      "3/3 [==============================] - 0s 61ms/step - loss: 0.6363 - accuracy: 0.6781 - val_loss: 0.6532 - val_accuracy: 0.6452\n",
      "Epoch 3/25\n",
      "3/3 [==============================] - 0s 58ms/step - loss: 0.6290 - accuracy: 0.6781 - val_loss: 0.6492 - val_accuracy: 0.6444\n",
      "Epoch 4/25\n",
      "3/3 [==============================] - 0s 42ms/step - loss: 0.6273 - accuracy: 0.6784 - val_loss: 0.6509 - val_accuracy: 0.6444\n",
      "Epoch 5/25\n",
      "3/3 [==============================] - 0s 41ms/step - loss: 0.6250 - accuracy: 0.6784 - val_loss: 0.6524 - val_accuracy: 0.6444\n",
      "Accuracy:  0.6443932411674347\n",
      "Classification Report: \n",
      "              precision    recall  f1-score   support\n",
      "\n",
      "           0       0.25      0.00      0.00       461\n",
      "           1       0.65      1.00      0.78       841\n",
      "\n",
      "    accuracy                           0.64      1302\n",
      "   macro avg       0.45      0.50      0.39      1302\n",
      "weighted avg       0.51      0.64      0.51      1302\n",
      "\n"
     ]
    }
   ],
   "source": [
    "import tensorflow as tf\n",
    "import keras.layers as layers\n",
    "from keras.models import Model\n",
    "from keras.datasets import imdb\n",
    "\n",
    "from keras.callbacks import EarlyStopping, ModelCheckpoint\n",
    "from keras.layers import Input,Embedding,Dense,Flatten\n",
    "from sklearn.metrics import accuracy_score,classification_report\n",
    "from sklearn.metrics import f1_score\n",
    "\n",
    "epochs = 25\n",
    "batch_size = 1024\n",
    "loss = \"binary_crossentropy\"\n",
    "optimizer = \"adam\"\n",
    "metrics = [\"accuracy\"]\n",
    "\n",
    "from keras import models\n",
    "\n",
    "callbacks = [EarlyStopping(monitor='val_loss', patience=2),\n",
    "            ModelCheckpoint(filepath='best_model.h5', monitor='val_loss', save_best_only=True)]\n",
    "\n",
    "# Build neural network\n",
    "model = models.Sequential()\n",
    "model.add(Dense(512, activation='relu', input_shape=(200,)))\n",
    "model.add(Dense(512, activation='relu'))\n",
    "model.add(Dense(1, activation='sigmoid'))\n",
    "model.compile(loss=loss,optimizer=optimizer,metrics= metrics)\n",
    "history=model.fit(xtrain_ft,ytrain,epochs=epochs,batch_size=batch_size,callbacks=callbacks,validation_data=(xvalid_ft,yvalid))\n",
    "\n",
    "\n",
    "predictions = model.predict(xvalid_ft)\n",
    "predictions = [0 if i<0.5 else 1 for i in predictions]\n",
    "\n",
    "f1_score(yvalid, predictions)\n",
    "print(\"Accuracy: \",accuracy_score(yvalid,predictions))\n",
    "print(\"Classification Report: \")\n",
    "print(classification_report(yvalid,predictions))\n"
   ]
  },
  {
   "cell_type": "code",
   "execution_count": 95,
   "metadata": {},
   "outputs": [
    {
     "data": {
      "image/png": "[encoded data removed]",
      "text/plain": [
       "<Figure size 432x288 with 1 Axes>"
      ]
     },
     "metadata": {
      "needs_background": "light"
     },
     "output_type": "display_data"
    },
    {
     "data": {
      "image/png": "[encoded data removed]",
      "text/plain": [
       "<Figure size 432x288 with 1 Axes>"
      ]
     },
     "metadata": {
      "needs_background": "light"
     },
     "output_type": "display_data"
    }
   ],
   "source": [
    "def plot_history(history):\n",
    "    plt.plot(history.history['loss'],'r--')\n",
    "    plt.plot(history.history['val_loss'],'b-')\n",
    "    plt.title('Model Loss FastText')\n",
    "    plt.legend(['Train Loss', 'Valid Loss'])\n",
    "    plt.xlabel('Epoch')\n",
    "    plt.ylabel('Loss')\n",
    "    plt.show();\n",
    "    plt.plot(history.history['accuracy'],'r--')\n",
    "    plt.plot(history.history['val_accuracy'],'b-')\n",
    "    plt.title('Model Accuracy FastText')\n",
    "    plt.legend(['Train Acc', 'Valid Acc'])\n",
    "    plt.ylabel('Accuracy')\n",
    "    plt.xlabel('Epoch')\n",
    "    plt.show()\n",
    "\n",
    "# requires history=model.fit, fit_generator...\n",
    "plot_history(history)"
   ]
  },
  {
   "cell_type": "code",
   "execution_count": 67,
   "metadata": {},
   "outputs": [],
   "source": [
    "test_pred = model.predict(test_w2v)\n",
    "test_pred = [0 if i<0.5 else 1 for i in test_pred]\n",
    "\n",
    "test['label'] = test_pred\n",
    "submission = test[['comment','label']]\n",
    "submission.to_excel('model_result3.xlsx', index=False)"
   ]
  },
  {
   "cell_type": "markdown",
   "metadata": {},
   "source": [
    "# End"
   ]
  },
  {
   "cell_type": "code",
   "execution_count": 76,
   "metadata": {},
   "outputs": [
    {
     "name": "stderr",
     "output_type": "stream",
     "text": [
      "C:\\Users\\DELL\\anaconda3\\lib\\site-packages\\sklearn\\linear_model\\_logistic.py:762: ConvergenceWarning: lbfgs failed to converge (status=1):\n",
      "STOP: TOTAL NO. of ITERATIONS REACHED LIMIT.\n",
      "\n",
      "Increase the number of iterations (max_iter) or scale the data as shown in:\n",
      "    https://scikit-learn.org/stable/modules/preprocessing.html\n",
      "Please also refer to the documentation for alternative solver options:\n",
      "    https://scikit-learn.org/stable/modules/linear_model.html#logistic-regression\n",
      "  n_iter_i = _check_optimize_result(\n"
     ]
    },
    {
     "ename": "ValueError",
     "evalue": "Expected 2D array, got 1D array instead:\narray=[1 0 1 1 1 1 1 1 1 1 1 1 0 0 1 1 1 1 1 1 1 1 1 1 1 1 1 0 1 1 1 1 1 1 1 1 1\n 1 1 1 1 1 1 1 1 1 1 1 1 1 0 1 1 0 1 1 1 0 1 0 1 0 1 1 1 1 1 1 1 1 1 1 1 1\n 1 1 1 1 1 1 1 1 1 1 1 1 1 1 1 1 1 1 1 1 0 1 1 1 0 1 1 1 1 1 1 1 1 1 1 1 1\n 0 1 1 1 1 1 1 1 1 0 0 1 0 1 1 1 1 1 1 1 1 1 1 0 0 0 0 0 0 0 1 1 1 1 0 1 0\n 1 1 0 1 1 1 1 1 1 1 1 1 1 1 0 0 1 1 0 1 1 1 1 1 1 1 1 1 1 1 1 1 1 1 1 1 1\n 1 1 1 1 1 1 1 1 1 1 1 1 1 1 1 1 1 1 1 1 1 1 1 1 1 1 1 0 0 1 1 1 1 1 1 1 0\n 1 1 1 1 0 1 1 1 0 0 0 1 1 1 0 1 1 1 0 0 1 1 0 1 1 1 1 1 1 1 1 1 1 1 1 1 1\n 1 1 1 1 1 1 1 1 1 1 1 1 1 1 1 1 1 1 0 1 1 1 1 1 1 1 1 1 1 1 1 0 1 1 1 1 1\n 1 1 0 1 0 1 1 1 1 1 1 1 1 1 1 1 1 0 0 1 1 1 1 1 1 1 1 1 1 1 1 1 0 1 1 0 1\n 0 1 1 1 1 1 1 1 0 1 0 1 1 1 1 0 1 1 1 1 1 1 1 1 1 1 1 1 1 1 1 1 1 1 1 1 1\n 1 1 0 1 1 1 0 1 1 1 1 0 1 1 0 1 1 1 1 1 1 1 1 1 1 1 1 1 1 1 1 1 1 1 1 1 1\n 1 1 0 1 1 1 1 1 1 1 1 1 1 1 1 1 1 1 1 1 1 1 1 1 0 1 1 1 1 1 0 0 1 1 1 1 0\n 0 1 1 1 1 1 0 1 0 0 1 1 1 1 1 1 1 1 1 1 1 1 1 1 1 1 1 1 1 1 1 0 1 1 1 1 1\n 1 1 1 0 1 1 1 1 1 1 0 0 0 0 1 0 0 0 0 0 0 0 1 0 1 1 1 1 1 0 1 0 1 1 1 1 1\n 1 1 0 1 0 1 1 1 1 1 0 1 1 0 1 1 0 1 1 1 1 1 1 1 1 0 1 1 1 1 1 1 1 1 1 1 1\n 1 1 1 1 1 1 1 0 1 1 1 1 1 1 1 1 1 1 1 1 1 1 1 1 1 1 0 1 1 1 1 1 1 1 1 0 0\n 0 0 1 1 1 0 0 1 1 1 1 1 1 0 0 1 1 1 1 1 1 0 1 1 1 1 1 1 1 1 1 1 1 0 1 1 1\n 1 1 1 1 1 1 1 1 1 1 1 1 1 1 1 1 1 1 1 1 0 1 1 0 1 1 0 1 1 1 1 1 1 1 1 1 1\n 1 1 1 1 1 1 1 1 1 1 1 0 1 1 1 1 1 1 0 1 1 1 1 0 1 1 1 1 1 1 1 1 1 1 1 0 1\n 1 1 1 1 1 1 1 1 1 1 1 0 1 1 1 1 1 1 1 0 1 1 0 1 1 1 1 1 1 1 1 1 1 0 1 1 1\n 1 1 1 1 1 1 1 1 1 1 1 1 1 1 1 1 1 1 1 1].\nReshape your data either using array.reshape(-1, 1) if your data has a single feature or array.reshape(1, -1) if it contains a single sample.",
     "output_type": "error",
     "traceback": [
      "\u001b[1;31m---------------------------------------------------------------------------\u001b[0m",
      "\u001b[1;31mValueError\u001b[0m                                Traceback (most recent call last)",
      "\u001b[1;32m<ipython-input-76-6a01110ce05c>\u001b[0m in \u001b[0;36m<module>\u001b[1;34m\u001b[0m\n\u001b[0;32m      7\u001b[0m \u001b[0md_tree\u001b[0m \u001b[1;33m=\u001b[0m \u001b[0mtree\u001b[0m\u001b[1;33m.\u001b[0m\u001b[0mDecisionTreeClassifier\u001b[0m\u001b[1;33m(\u001b[0m\u001b[1;33m)\u001b[0m\u001b[1;33m.\u001b[0m\u001b[0mfit\u001b[0m\u001b[1;33m(\u001b[0m\u001b[0mxtrain_ft\u001b[0m\u001b[1;33m,\u001b[0m\u001b[0mytrain\u001b[0m\u001b[1;33m)\u001b[0m\u001b[1;33m\u001b[0m\u001b[1;33m\u001b[0m\u001b[0m\n\u001b[0;32m      8\u001b[0m \u001b[0msvm\u001b[0m \u001b[1;33m=\u001b[0m \u001b[0mLinearSVC\u001b[0m\u001b[1;33m(\u001b[0m\u001b[1;33m)\u001b[0m\u001b[1;33m.\u001b[0m\u001b[0mfit\u001b[0m\u001b[1;33m(\u001b[0m\u001b[0mxtrain_ft\u001b[0m\u001b[1;33m,\u001b[0m\u001b[0mytrain\u001b[0m\u001b[1;33m)\u001b[0m\u001b[1;33m\u001b[0m\u001b[1;33m\u001b[0m\u001b[0m\n\u001b[1;32m----> 9\u001b[1;33m \u001b[0mprint\u001b[0m\u001b[1;33m(\u001b[0m\u001b[0mclassification_report\u001b[0m\u001b[1;33m(\u001b[0m \u001b[0mlog\u001b[0m\u001b[1;33m.\u001b[0m\u001b[0mpredict\u001b[0m\u001b[1;33m(\u001b[0m\u001b[0mtest_pred\u001b[0m\u001b[1;33m)\u001b[0m \u001b[1;33m,\u001b[0m \u001b[0my_test\u001b[0m\u001b[1;33m)\u001b[0m\u001b[1;33m)\u001b[0m\u001b[1;33m\u001b[0m\u001b[1;33m\u001b[0m\u001b[0m\n\u001b[0m\u001b[0;32m     10\u001b[0m \u001b[0mprint\u001b[0m\u001b[1;33m(\u001b[0m\u001b[1;34m\"Logistic Regression:\"\u001b[0m\u001b[1;33m,\u001b[0m\u001b[0maccuracy_score\u001b[0m\u001b[1;33m(\u001b[0m \u001b[0mlog\u001b[0m\u001b[1;33m.\u001b[0m\u001b[0mpredict\u001b[0m\u001b[1;33m(\u001b[0m\u001b[0mX_test\u001b[0m\u001b[1;33m)\u001b[0m \u001b[1;33m,\u001b[0m \u001b[0my_test\u001b[0m \u001b[1;33m)\u001b[0m\u001b[1;33m,\u001b[0m\u001b[0maccuracy_score\u001b[0m\u001b[1;33m(\u001b[0m \u001b[0mlog\u001b[0m\u001b[1;33m.\u001b[0m\u001b[0mpredict\u001b[0m\u001b[1;33m(\u001b[0m\u001b[0mX_train\u001b[0m\u001b[1;33m)\u001b[0m \u001b[1;33m,\u001b[0m \u001b[0my_train\u001b[0m \u001b[1;33m)\u001b[0m\u001b[1;33m)\u001b[0m\u001b[1;33m\u001b[0m\u001b[1;33m\u001b[0m\u001b[0m\n\u001b[0;32m     11\u001b[0m \u001b[0mprint\u001b[0m\u001b[1;33m(\u001b[0m\u001b[0mclassification_report\u001b[0m\u001b[1;33m(\u001b[0m \u001b[0md_tree\u001b[0m\u001b[1;33m.\u001b[0m\u001b[0mpredict\u001b[0m\u001b[1;33m(\u001b[0m\u001b[0mX_test\u001b[0m\u001b[1;33m)\u001b[0m \u001b[1;33m,\u001b[0m \u001b[0my_test\u001b[0m\u001b[1;33m)\u001b[0m\u001b[1;33m)\u001b[0m\u001b[1;33m\u001b[0m\u001b[1;33m\u001b[0m\u001b[0m\n",
      "\u001b[1;32m~\\anaconda3\\lib\\site-packages\\sklearn\\linear_model\\_base.py\u001b[0m in \u001b[0;36mpredict\u001b[1;34m(self, X)\u001b[0m\n\u001b[0;32m    305\u001b[0m             \u001b[0mPredicted\u001b[0m \u001b[1;32mclass\u001b[0m \u001b[0mlabel\u001b[0m \u001b[0mper\u001b[0m \u001b[0msample\u001b[0m\u001b[1;33m.\u001b[0m\u001b[1;33m\u001b[0m\u001b[1;33m\u001b[0m\u001b[0m\n\u001b[0;32m    306\u001b[0m         \"\"\"\n\u001b[1;32m--> 307\u001b[1;33m         \u001b[0mscores\u001b[0m \u001b[1;33m=\u001b[0m \u001b[0mself\u001b[0m\u001b[1;33m.\u001b[0m\u001b[0mdecision_function\u001b[0m\u001b[1;33m(\u001b[0m\u001b[0mX\u001b[0m\u001b[1;33m)\u001b[0m\u001b[1;33m\u001b[0m\u001b[1;33m\u001b[0m\u001b[0m\n\u001b[0m\u001b[0;32m    308\u001b[0m         \u001b[1;32mif\u001b[0m \u001b[0mlen\u001b[0m\u001b[1;33m(\u001b[0m\u001b[0mscores\u001b[0m\u001b[1;33m.\u001b[0m\u001b[0mshape\u001b[0m\u001b[1;33m)\u001b[0m \u001b[1;33m==\u001b[0m \u001b[1;36m1\u001b[0m\u001b[1;33m:\u001b[0m\u001b[1;33m\u001b[0m\u001b[1;33m\u001b[0m\u001b[0m\n\u001b[0;32m    309\u001b[0m             \u001b[0mindices\u001b[0m \u001b[1;33m=\u001b[0m \u001b[1;33m(\u001b[0m\u001b[0mscores\u001b[0m \u001b[1;33m>\u001b[0m \u001b[1;36m0\u001b[0m\u001b[1;33m)\u001b[0m\u001b[1;33m.\u001b[0m\u001b[0mastype\u001b[0m\u001b[1;33m(\u001b[0m\u001b[0mnp\u001b[0m\u001b[1;33m.\u001b[0m\u001b[0mint\u001b[0m\u001b[1;33m)\u001b[0m\u001b[1;33m\u001b[0m\u001b[1;33m\u001b[0m\u001b[0m\n",
      "\u001b[1;32m~\\anaconda3\\lib\\site-packages\\sklearn\\linear_model\\_base.py\u001b[0m in \u001b[0;36mdecision_function\u001b[1;34m(self, X)\u001b[0m\n\u001b[0;32m    280\u001b[0m         \u001b[0mcheck_is_fitted\u001b[0m\u001b[1;33m(\u001b[0m\u001b[0mself\u001b[0m\u001b[1;33m)\u001b[0m\u001b[1;33m\u001b[0m\u001b[1;33m\u001b[0m\u001b[0m\n\u001b[0;32m    281\u001b[0m \u001b[1;33m\u001b[0m\u001b[0m\n\u001b[1;32m--> 282\u001b[1;33m         \u001b[0mX\u001b[0m \u001b[1;33m=\u001b[0m \u001b[0mcheck_array\u001b[0m\u001b[1;33m(\u001b[0m\u001b[0mX\u001b[0m\u001b[1;33m,\u001b[0m \u001b[0maccept_sparse\u001b[0m\u001b[1;33m=\u001b[0m\u001b[1;34m'csr'\u001b[0m\u001b[1;33m)\u001b[0m\u001b[1;33m\u001b[0m\u001b[1;33m\u001b[0m\u001b[0m\n\u001b[0m\u001b[0;32m    283\u001b[0m \u001b[1;33m\u001b[0m\u001b[0m\n\u001b[0;32m    284\u001b[0m         \u001b[0mn_features\u001b[0m \u001b[1;33m=\u001b[0m \u001b[0mself\u001b[0m\u001b[1;33m.\u001b[0m\u001b[0mcoef_\u001b[0m\u001b[1;33m.\u001b[0m\u001b[0mshape\u001b[0m\u001b[1;33m[\u001b[0m\u001b[1;36m1\u001b[0m\u001b[1;33m]\u001b[0m\u001b[1;33m\u001b[0m\u001b[1;33m\u001b[0m\u001b[0m\n",
      "\u001b[1;32m~\\anaconda3\\lib\\site-packages\\sklearn\\utils\\validation.py\u001b[0m in \u001b[0;36minner_f\u001b[1;34m(*args, **kwargs)\u001b[0m\n\u001b[0;32m     71\u001b[0m                           FutureWarning)\n\u001b[0;32m     72\u001b[0m         \u001b[0mkwargs\u001b[0m\u001b[1;33m.\u001b[0m\u001b[0mupdate\u001b[0m\u001b[1;33m(\u001b[0m\u001b[1;33m{\u001b[0m\u001b[0mk\u001b[0m\u001b[1;33m:\u001b[0m \u001b[0marg\u001b[0m \u001b[1;32mfor\u001b[0m \u001b[0mk\u001b[0m\u001b[1;33m,\u001b[0m \u001b[0marg\u001b[0m \u001b[1;32min\u001b[0m \u001b[0mzip\u001b[0m\u001b[1;33m(\u001b[0m\u001b[0msig\u001b[0m\u001b[1;33m.\u001b[0m\u001b[0mparameters\u001b[0m\u001b[1;33m,\u001b[0m \u001b[0margs\u001b[0m\u001b[1;33m)\u001b[0m\u001b[1;33m}\u001b[0m\u001b[1;33m)\u001b[0m\u001b[1;33m\u001b[0m\u001b[1;33m\u001b[0m\u001b[0m\n\u001b[1;32m---> 73\u001b[1;33m         \u001b[1;32mreturn\u001b[0m \u001b[0mf\u001b[0m\u001b[1;33m(\u001b[0m\u001b[1;33m**\u001b[0m\u001b[0mkwargs\u001b[0m\u001b[1;33m)\u001b[0m\u001b[1;33m\u001b[0m\u001b[1;33m\u001b[0m\u001b[0m\n\u001b[0m\u001b[0;32m     74\u001b[0m     \u001b[1;32mreturn\u001b[0m \u001b[0minner_f\u001b[0m\u001b[1;33m\u001b[0m\u001b[1;33m\u001b[0m\u001b[0m\n\u001b[0;32m     75\u001b[0m \u001b[1;33m\u001b[0m\u001b[0m\n",
      "\u001b[1;32m~\\anaconda3\\lib\\site-packages\\sklearn\\utils\\validation.py\u001b[0m in \u001b[0;36mcheck_array\u001b[1;34m(array, accept_sparse, accept_large_sparse, dtype, order, copy, force_all_finite, ensure_2d, allow_nd, ensure_min_samples, ensure_min_features, estimator)\u001b[0m\n\u001b[0;32m    618\u001b[0m             \u001b[1;31m# If input is 1D raise error\u001b[0m\u001b[1;33m\u001b[0m\u001b[1;33m\u001b[0m\u001b[1;33m\u001b[0m\u001b[0m\n\u001b[0;32m    619\u001b[0m             \u001b[1;32mif\u001b[0m \u001b[0marray\u001b[0m\u001b[1;33m.\u001b[0m\u001b[0mndim\u001b[0m \u001b[1;33m==\u001b[0m \u001b[1;36m1\u001b[0m\u001b[1;33m:\u001b[0m\u001b[1;33m\u001b[0m\u001b[1;33m\u001b[0m\u001b[0m\n\u001b[1;32m--> 620\u001b[1;33m                 raise ValueError(\n\u001b[0m\u001b[0;32m    621\u001b[0m                     \u001b[1;34m\"Expected 2D array, got 1D array instead:\\narray={}.\\n\"\u001b[0m\u001b[1;33m\u001b[0m\u001b[1;33m\u001b[0m\u001b[0m\n\u001b[0;32m    622\u001b[0m                     \u001b[1;34m\"Reshape your data either using array.reshape(-1, 1) if \"\u001b[0m\u001b[1;33m\u001b[0m\u001b[1;33m\u001b[0m\u001b[0m\n",
      "\u001b[1;31mValueError\u001b[0m: Expected 2D array, got 1D array instead:\narray=[1 0 1 1 1 1 1 1 1 1 1 1 0 0 1 1 1 1 1 1 1 1 1 1 1 1 1 0 1 1 1 1 1 1 1 1 1\n 1 1 1 1 1 1 1 1 1 1 1 1 1 0 1 1 0 1 1 1 0 1 0 1 0 1 1 1 1 1 1 1 1 1 1 1 1\n 1 1 1 1 1 1 1 1 1 1 1 1 1 1 1 1 1 1 1 1 0 1 1 1 0 1 1 1 1 1 1 1 1 1 1 1 1\n 0 1 1 1 1 1 1 1 1 0 0 1 0 1 1 1 1 1 1 1 1 1 1 0 0 0 0 0 0 0 1 1 1 1 0 1 0\n 1 1 0 1 1 1 1 1 1 1 1 1 1 1 0 0 1 1 0 1 1 1 1 1 1 1 1 1 1 1 1 1 1 1 1 1 1\n 1 1 1 1 1 1 1 1 1 1 1 1 1 1 1 1 1 1 1 1 1 1 1 1 1 1 1 0 0 1 1 1 1 1 1 1 0\n 1 1 1 1 0 1 1 1 0 0 0 1 1 1 0 1 1 1 0 0 1 1 0 1 1 1 1 1 1 1 1 1 1 1 1 1 1\n 1 1 1 1 1 1 1 1 1 1 1 1 1 1 1 1 1 1 0 1 1 1 1 1 1 1 1 1 1 1 1 0 1 1 1 1 1\n 1 1 0 1 0 1 1 1 1 1 1 1 1 1 1 1 1 0 0 1 1 1 1 1 1 1 1 1 1 1 1 1 0 1 1 0 1\n 0 1 1 1 1 1 1 1 0 1 0 1 1 1 1 0 1 1 1 1 1 1 1 1 1 1 1 1 1 1 1 1 1 1 1 1 1\n 1 1 0 1 1 1 0 1 1 1 1 0 1 1 0 1 1 1 1 1 1 1 1 1 1 1 1 1 1 1 1 1 1 1 1 1 1\n 1 1 0 1 1 1 1 1 1 1 1 1 1 1 1 1 1 1 1 1 1 1 1 1 0 1 1 1 1 1 0 0 1 1 1 1 0\n 0 1 1 1 1 1 0 1 0 0 1 1 1 1 1 1 1 1 1 1 1 1 1 1 1 1 1 1 1 1 1 0 1 1 1 1 1\n 1 1 1 0 1 1 1 1 1 1 0 0 0 0 1 0 0 0 0 0 0 0 1 0 1 1 1 1 1 0 1 0 1 1 1 1 1\n 1 1 0 1 0 1 1 1 1 1 0 1 1 0 1 1 0 1 1 1 1 1 1 1 1 0 1 1 1 1 1 1 1 1 1 1 1\n 1 1 1 1 1 1 1 0 1 1 1 1 1 1 1 1 1 1 1 1 1 1 1 1 1 1 0 1 1 1 1 1 1 1 1 0 0\n 0 0 1 1 1 0 0 1 1 1 1 1 1 0 0 1 1 1 1 1 1 0 1 1 1 1 1 1 1 1 1 1 1 0 1 1 1\n 1 1 1 1 1 1 1 1 1 1 1 1 1 1 1 1 1 1 1 1 0 1 1 0 1 1 0 1 1 1 1 1 1 1 1 1 1\n 1 1 1 1 1 1 1 1 1 1 1 0 1 1 1 1 1 1 0 1 1 1 1 0 1 1 1 1 1 1 1 1 1 1 1 0 1\n 1 1 1 1 1 1 1 1 1 1 1 0 1 1 1 1 1 1 1 0 1 1 0 1 1 1 1 1 1 1 1 1 1 0 1 1 1\n 1 1 1 1 1 1 1 1 1 1 1 1 1 1 1 1 1 1 1 1].\nReshape your data either using array.reshape(-1, 1) if your data has a single feature or array.reshape(1, -1) if it contains a single sample."
     ]
    }
   ],
   "source": [
    "from sklearn.linear_model import LogisticRegression\n",
    "from sklearn.svm import LinearSVC, SVC\n",
    "from sklearn import tree\n",
    "from sklearn.naive_bayes import MultinomialNB\n",
    "#clf = MultinomialNB(alpha=0.1, fit_prior= False).fit(xtrain_ft, ytrain)\n",
    "log = LogisticRegression( solver='lbfgs',multi_class='multinomial').fit(xtrain_ft, ytrain)                                                                    \n",
    "d_tree = tree.DecisionTreeClassifier().fit(xtrain_ft,ytrain)\n",
    "svm = LinearSVC().fit(xtrain_ft,ytrain)\n",
    "print(classification_report( log.predict(test_pred) , y_test))\n",
    "print(\"Logistic Regression:\",accuracy_score( log.predict(X_test) , y_test ),accuracy_score( log.predict(X_train) , y_train ))\n",
    "print(classification_report( d_tree.predict(X_test) , y_test))\n",
    "print(\"Decision Tree Accuracy:\",accuracy_score( d_tree.predict(X_test) , y_test ),accuracy_score( d_tree.predict(X_train) , y_train ))\n",
    "print(classification_report( clf.predict(X_test) , y_test))\n",
    "print(\"MultinomialNB Accuracy:\",accuracy_score( clf.predict(X_test) , y_test ),accuracy_score( clf.predict(X_train) , y_train ))\n",
    "print(classification_report( svm.predict(X_test) , y_test))\n",
    "print(\"SVM Accuracy:\",accuracy_score( svm.predict(X_test) , y_test ),accuracy_score( svm.predict(X_train) , y_train ))"
   ]
  },
  {
   "cell_type": "code",
   "execution_count": null,
   "metadata": {},
   "outputs": [],
   "source": [
    "# summarize history for accuracy\n",
    "plt.plot(history.history['acc'])\n",
    "plt.plot(history.history['val_acc'])\n",
    "plt.title('model accuracy')\n",
    "plt.ylabel('accuracy')\n",
    "plt.xlabel('epoch')\n",
    "plt.legend(['train', 'test'], loc='upper left')\n",
    "plt.show()\n",
    "# summarize history for loss\n",
    "plt.plot(history.history['loss'])\n",
    "plt.plot(history.history['val_loss'])\n",
    "plt.title('model loss')\n",
    "plt.ylabel('loss')\n",
    "plt.xlabel('epoch')\n",
    "plt.legend(['train', 'test'], loc='upper left')\n",
    "plt.show()"
   ]
  }
 ],
 "metadata": {
  "colab": {
   "name": "Twitter-Sentiment-Analysis.ipynb",
   "provenance": [],
   "toc_visible": true
  },
  "kernelspec": {
   "display_name": "Python 3",
   "language": "python",
   "name": "python3"
  },
  "language_info": {
   "codemirror_mode": {
    "name": "ipython",
    "version": 3
   },
   "file_extension": ".py",
   "mimetype": "text/x-python",
   "name": "python",
   "nbconvert_exporter": "python",
   "pygments_lexer": "ipython3",
   "version": "3.8.3"
  }
 },
 "nbformat": 4,
 "nbformat_minor": 1
}
